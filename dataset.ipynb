{
 "cells": [
  {
   "cell_type": "code",
   "execution_count": 4,
   "metadata": {},
   "outputs": [],
   "source": [
    "import glob\n",
    "from torch.utils import data\n",
    "import torchvision.transforms as transforms\n",
    "import numpy as np\n",
    "from PIL import Image\n",
    "import torch"
   ]
  },
  {
   "cell_type": "code",
   "execution_count": 3,
   "metadata": {},
   "outputs": [],
   "source": [
    "DATASET_MEAN = (0.485, 0.456, 0.406)\n",
    "DATASET_STD = (0.229, 0.224, 0.225)"
   ]
  },
  {
   "cell_type": "code",
   "execution_count": 5,
   "metadata": {},
   "outputs": [],
   "source": [
    "class Dataset(data.Dataset):\n",
    "    'Characterizes a dataset for PyTorch'\n",
    "    def __init__(self, image_folder_path, evalu):\n",
    "        'Initialization'\n",
    "        self.evalu = evalu\n",
    "        image_paths = glob.glob('{}/*'.format(image_folder_path))\n",
    "        self.datalist = [image_path for image_path in image_paths]\n",
    "\n",
    "    def __len__(self):\n",
    "        'Denotes the total number of samples'\n",
    "        return len(self.datalist)\n",
    "\n",
    "    def __getitem__(self, index):\n",
    "        'Generates one sample of data'\n",
    "        # Load data\n",
    "        real_image = Image.open(self.datalist[index]).convert('RGB')\n",
    "        \n",
    "        # crop here\n",
    "        side_length = min(real_image.size)\n",
    "        image_transformation = transforms.Compose([\n",
    "            transforms.RandomCrop(size=side_length),\n",
    "            transforms.toTensor(),\n",
    "            transforms.Normalize(mean=DATASET_MEAN, std=DATASET_STD),\n",
    "        ])\n",
    "\n",
    "        real_image = image_transformation(real_image)\n",
    "\n",
    "        return real_image"
   ]
  },
  {
   "cell_type": "code",
   "execution_count": 6,
   "metadata": {},
   "outputs": [],
   "source": [
    "def GenerateIterator(args, image_path, evalu=False, shuffle=True):\n",
    "    params = {\n",
    "        'batch_size': 16,\n",
    "        'shuffle': shuffle,\n",
    "        'num_workers': 4,\n",
    "        'pin_memory': False,\n",
    "        'drop_last': False,\n",
    "    }\n",
    "\n",
    "    return data.DataLoader(Dataset(image_path, evalu=evalu), **params)"
   ]
  }
 ],
 "metadata": {
  "kernelspec": {
   "display_name": "Python 3",
   "language": "python",
   "name": "python3"
  },
  "language_info": {
   "codemirror_mode": {
    "name": "ipython",
    "version": 3
   },
   "file_extension": ".py",
   "mimetype": "text/x-python",
   "name": "python",
   "nbconvert_exporter": "python",
   "pygments_lexer": "ipython3",
   "version": "3.7.1"
  }
 },
 "nbformat": 4,
 "nbformat_minor": 2
}
