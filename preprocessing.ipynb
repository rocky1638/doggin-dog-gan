{
 "cells": [
  {
   "cell_type": "code",
   "execution_count": 1,
   "metadata": {},
   "outputs": [],
   "source": [
    "from PIL import Image\n",
    "import xml.etree.ElementTree as ET\n",
    "import numpy as np\n",
    "import os"
   ]
  },
  {
   "cell_type": "markdown",
   "metadata": {},
   "source": [
    "## Cropping Images By Bounding Box"
   ]
  },
  {
   "cell_type": "code",
   "execution_count": 2,
   "metadata": {
    "scrolled": true
   },
   "outputs": [],
   "source": [
    "# returns a list containing paths of all files in given directory\n",
    "def get_paths(path):\n",
    "    paths = []\n",
    "    for root, dirs, files in os.walk(path, topdown=False):\n",
    "        for name in files:\n",
    "            paths.append(f\"{root}/{name}\")\n",
    "    return sorted(paths)"
   ]
  },
  {
   "cell_type": "code",
   "execution_count": 3,
   "metadata": {},
   "outputs": [],
   "source": [
    "# extracts dimensions and bounding box coordinates \n",
    "# for each image annotation in given path\n",
    "def get_dims_and_bbs(paths):\n",
    "    dims = []\n",
    "    bb_coords = []\n",
    "    for path in paths:\n",
    "        root = ET.parse(path).getroot()\n",
    "        width, height = int(root[3][0].text), int(root[3][1].text)\n",
    "        dims.append((width, height))\n",
    "\n",
    "        # bounding box coordinates\n",
    "        # [xmin, ymin, xmax, ybax]\n",
    "        bbcoord = (\n",
    "            int(root[5][4][0].text),\n",
    "            int(root[5][4][1].text),\n",
    "            int(root[5][4][2].text),\n",
    "            int(root[5][4][3].text),\n",
    "        )\n",
    "        bb_coords.append(bbcoord)\n",
    "    return dims, bb_coords"
   ]
  },
  {
   "cell_type": "code",
   "execution_count": 4,
   "metadata": {},
   "outputs": [],
   "source": [
    "# crops all images based on box coordinates\n",
    "# ** creates new images **\n",
    "def crop_by_bb(image_paths, box_coords):\n",
    "    # create path for cropped images if they don't exist already\n",
    "    if not os.path.exists('./images_cropped'):\n",
    "        os.mkdir('images_cropped')\n",
    "        \n",
    "    for image_path, box_coord in zip(image_paths, box_coords):\n",
    "        image = Image.open(image_path).convert('RGB')\n",
    "        image = image.crop(box=box_coord)\n",
    "        \n",
    "        image_name = image_path.split('/')[-1]\n",
    "        image.save(f\"./images_cropped/{image_name}\")"
   ]
  },
  {
   "cell_type": "code",
   "execution_count": 5,
   "metadata": {},
   "outputs": [],
   "source": [
    "image_paths = get_paths('./images')\n",
    "annotation_paths = get_paths('./annotations')"
   ]
  },
  {
   "cell_type": "code",
   "execution_count": 6,
   "metadata": {},
   "outputs": [],
   "source": [
    "dimensions, box_coords = get_dims_and_bbs(annotation_paths)"
   ]
  },
  {
   "cell_type": "code",
   "execution_count": 7,
   "metadata": {},
   "outputs": [],
   "source": [
    "crop_by_bb(image_paths, box_coords)"
   ]
  }
 ],
 "metadata": {
  "kernelspec": {
   "display_name": "Python 3",
   "language": "python",
   "name": "python3"
  },
  "language_info": {
   "codemirror_mode": {
    "name": "ipython",
    "version": 3
   },
   "file_extension": ".py",
   "mimetype": "text/x-python",
   "name": "python",
   "nbconvert_exporter": "python",
   "pygments_lexer": "ipython3",
   "version": "3.7.3"
  }
 },
 "nbformat": 4,
 "nbformat_minor": 2
}
